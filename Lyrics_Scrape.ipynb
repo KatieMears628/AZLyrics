{
  "cells": [
    {
      "cell_type": "markdown",
      "metadata": {
        "colab_type": "text",
        "id": "view-in-github"
      },
      "source": [
        "<a href=\"https://colab.research.google.com/github/KatieMears628/AZLyrics/blob/main/Lyrics_Scrape.ipynb\" target=\"_parent\"><img src=\"https://colab.research.google.com/assets/colab-badge.svg\" alt=\"Open In Colab\"/></a>"
      ]
    },
    {
      "cell_type": "markdown",
      "id": "d7mty55gkP03",
      "metadata": {
        "id": "d7mty55gkP03"
      },
      "source": [
        "Katie Mears"
      ]
    },
    {
      "cell_type": "markdown",
      "id": "95952cac",
      "metadata": {
        "id": "95952cac"
      },
      "source": [
        "# ADS 509 Module 1: APIs and Web Scraping\n",
        "\n",
        "This notebook has two parts. In the first part, you will scrape lyrics from AZLyrics.com. In the second part, you'll run code that verifies the completeness of your data pull.\n",
        "\n",
        "For this assignment you have chosen two musical artists who have at least 20 songs with lyrics on AZLyrics.com. We start with pulling some information and analyzing them.\n"
      ]
    },
    {
      "cell_type": "markdown",
      "id": "069b7ae8",
      "metadata": {
        "id": "069b7ae8"
      },
      "source": [
        "## General Assignment Instructions\n",
        "\n",
        "These instructions are included in every assignment, to remind you of the coding standards for the class. Feel free to delete this cell after reading it.\n",
        "\n",
        "One sign of mature code is conforming to a style guide. We recommend the [Google Python Style Guide](https://google.github.io/styleguide/pyguide.html). If you use a different style guide, please include a cell with a link.\n",
        "\n",
        "Your code should be relatively easy-to-read, sensibly commented, and clean. Writing code is a messy process, so please be sure to edit your final submission. Remove any cells that are not needed or parts of cells that contain unnecessary code. Remove inessential `import` statements and make sure that all such statements are moved into the designated cell.\n",
        "\n",
        "Make use of non-code cells for written commentary. These cells should be grammatical and clearly written. In some of these cells you will have questions to answer. The questions will be marked by a \"Q:\" and will have a corresponding \"A:\" spot for you. *Make sure to answer every question marked with a `Q:` for full credit.*\n"
      ]
    },
    {
      "cell_type": "markdown",
      "id": "91c8969e",
      "metadata": {
        "id": "91c8969e"
      },
      "source": [
        "# Importing Libraries"
      ]
    },
    {
      "cell_type": "code",
      "execution_count": 1,
      "id": "185076b0",
      "metadata": {
        "id": "185076b0"
      },
      "outputs": [],
      "source": [
        "import os\n",
        "import datetime\n",
        "import re\n",
        "\n",
        "# for the lyrics scrape section\n",
        "import requests\n",
        "import time\n",
        "from bs4 import BeautifulSoup\n",
        "from collections import defaultdict, Counter\n",
        "import random\n",
        "import shutil"
      ]
    },
    {
      "cell_type": "markdown",
      "id": "45c13af3",
      "metadata": {
        "id": "45c13af3"
      },
      "source": [
        "---\n",
        "\n",
        "# Lyrics Scrape\n",
        "\n",
        "This section asks you to pull data by scraping www.AZLyrics.com. In the notebooks where you do that work you are asked to store the data in specific ways."
      ]
    },
    {
      "cell_type": "code",
      "execution_count": 2,
      "id": "5bd7df77",
      "metadata": {
        "id": "5bd7df77"
      },
      "outputs": [],
      "source": [
        "artists = {'morgan wallen': \"https://www.azlyrics.com/m/morganwallen.html\",\n",
        "           'pink floyd': \"https://www.azlyrics.com/p/pinkfloyd.html\"}\n",
        "# we'll use this dictionary to hold both the artist name and the link on AZlyrics"
      ]
    },
    {
      "cell_type": "code",
      "execution_count": 3,
      "id": "9pZa4_VPjpuN",
      "metadata": {
        "colab": {
          "base_uri": "https://localhost:8080/"
        },
        "id": "9pZa4_VPjpuN",
        "outputId": "8e701bdd-476a-492c-a7fd-f5a6e11867df"
      },
      "outputs": [
        {
          "name": "stdout",
          "output_type": "stream",
          "text": [
            "Successfully fetched morgan wallen's page.\n",
            "Successfully fetched pink floyd's page.\n"
          ]
        }
      ],
      "source": [
        "for artist, artist_page in artists.items():\n",
        "    try:\n",
        "        r = requests.get(artist_page, timeout=10)\n",
        "        r.raise_for_status()\n",
        "        print(f\"Successfully fetched {artist}'s page.\")\n",
        "    except requests.exceptions.RequestException as e:\n",
        "        print(f\"Failed to fetch {artist}'s page: {e}\")\n",
        "    time.sleep(5 + 10 * random.random())"
      ]
    },
    {
      "cell_type": "markdown",
      "id": "c236c99b",
      "metadata": {
        "id": "c236c99b"
      },
      "source": [
        "## A Note on Rate Limiting\n",
        "\n",
        "The lyrics site, www.azlyrics.com, does not have an explicit maximum on number of requests in any one time, but in our testing it appears that too many requests in too short a time will cause the site to stop returning lyrics pages. (Entertainingly, the page that gets returned seems to only have the song title to [a Tom Jones song](https://www.azlyrics.com/lyrics/tomjones/itsnotunusual.html).)\n",
        "\n",
        "Whenever you call `requests.get` to retrieve a page, put a `time.sleep(5 + 10*random.random())` on the next line. This will help you not to get blocked. If you _do_ get blocked, which you can identify if the returned pages are not correct, just request a lyrics page through your browser. You'll be asked to perform a CAPTCHA and then your requests should start working again.\n",
        "\n",
        "## Part 1: Finding Links to Songs Lyrics\n",
        "\n",
        "That general artist page has a list of all songs for that artist with links to the individual song pages.\n",
        "\n",
        "Q: Take a look at the `robots.txt` page on www.azlyrics.com. (You can read more about these pages [here](https://developers.google.com/search/docs/advanced/robots/intro).) Is the scraping we are about to do allowed or disallowed by this page? How do you know?\n",
        "\n",
        "A: I believe that the webscraping that we are going to do is allowed. The robots.txt page on www.azlyrics.com has the following instructions:\n",
        "\n",
        "User-agent: *\n",
        "\n",
        "Disallow: /lyricsdb/\n",
        "\n",
        "Disallow: /song/\n",
        "\n",
        "Allow: /\n",
        "\n",
        "\n",
        "User-agent: 008\n",
        "\n",
        "Disallow: /\n",
        "\n",
        "\n",
        "The first set of instructions specifies that all users are allowed to crawl all parts of the website except for the URLS that start with /lyricsdb/ and /song/. In the URLs provided above for the artists, neither URL contains either of those strings. The second set of instructions blocks User-agent: 008 from crawling any part of the website.\n"
      ]
    },
    {
      "cell_type": "code",
      "execution_count": 4,
      "id": "ac9d31ec",
      "metadata": {
        "colab": {
          "base_uri": "https://localhost:8080/"
        },
        "id": "ac9d31ec",
        "outputId": "3ff227a2-7737-4551-981e-6900417d66f5"
      },
      "outputs": [
        {
          "name": "stdout",
          "output_type": "stream",
          "text": [
            "Fetching page for morgan wallen...\n",
            "Fetching page for pink floyd...\n",
            "\n",
            "Lyrics links for morgan wallen:\n",
            "https://www.azlyrics.com/lyrics/morganwallen/spinyouaround.html\n",
            "https://www.azlyrics.com/lyrics/morganwallen/sleepwhenweredead.html\n",
            "https://www.azlyrics.com/lyrics/morganwallen/standalone.html\n",
            "https://www.azlyrics.com/lyrics/morganwallen/manofthesouth.html\n",
            "https://www.azlyrics.com/lyrics/morganwallen/yinyanggirl.html\n",
            "https://www.azlyrics.com/lyrics/morganwallen/goingdown.html\n",
            "https://www.azlyrics.com/lyrics/morganwallen/scaredtolivewithoutyou.html\n",
            "https://www.azlyrics.com/lyrics/morganwallen/2ofusalone.html\n",
            "https://www.azlyrics.com/lyrics/morganwallen/gotitmade.html\n",
            "https://www.azlyrics.com/lyrics/morganwallen/whatsyourstory.html\n",
            "https://www.azlyrics.com/lyrics/morganwallen/afterglow.html\n",
            "https://www.azlyrics.com/lyrics/morganwallen/heavencantakeabackseat.html\n",
            "https://www.azlyrics.com/lyrics/morganwallen/bonfirejam.html\n",
            "https://www.azlyrics.com/lyrics/morganwallen/thewayitalk.html\n",
            "https://www.azlyrics.com/lyrics/morganwallen/chainsmokin.html\n",
            "https://www.azlyrics.com/lyrics/morganwallen/whiskeyglasses.html\n",
            "https://www.azlyrics.com/lyrics/morganwallen/standout.html\n",
            "https://www.azlyrics.com/lyrics/morganwallen/americannights.html\n",
            "https://www.azlyrics.com/lyrics/morganwallen/updown.html\n",
            "https://www.azlyrics.com/lyrics/morganwallen/happyhour.html\n",
            "https://www.azlyrics.com/lyrics/morganwallen/hadmebyhalftime.html\n",
            "https://www.azlyrics.com/lyrics/morganwallen/whiskeyglasses.html\n",
            "https://www.azlyrics.com/lyrics/morganwallen/whatchaknowboutthat.html\n",
            "https://www.azlyrics.com/lyrics/morganwallen/rednecklovesong.html\n",
            "https://www.azlyrics.com/lyrics/morganwallen/littlerain.html\n",
            "https://www.azlyrics.com/lyrics/morganwallen/ifiknowme.html\n",
            "https://www.azlyrics.com/lyrics/morganwallen/chasinyou.html\n",
            "https://www.azlyrics.com/lyrics/morganwallen/thewayitalk.html\n",
            "https://www.azlyrics.com/lyrics/morganwallen/ifievergetyouback.html\n",
            "https://www.azlyrics.com/lyrics/morganwallen/gonegirl.html\n",
            "https://www.azlyrics.com/lyrics/morganwallen/notgoodatnot.html\n",
            "https://www.azlyrics.com/lyrics/morganwallen/talkintennessee.html\n",
            "https://www.azlyrics.com/lyrics/morganwallen/sandinmyboots.html\n",
            "https://www.azlyrics.com/lyrics/morganwallen/wastedonyou.html\n",
            "https://www.azlyrics.com/lyrics/morganwallen/somebodysproblem.html\n",
            "https://www.azlyrics.com/lyrics/morganwallen/moresurprisedthanme.html\n",
            "https://www.azlyrics.com/lyrics/morganwallen/865.html\n",
            "https://www.azlyrics.com/lyrics/morganwallen/warning.html\n",
            "https://www.azlyrics.com/lyrics/morganwallen/neoneyes.html\n",
            "https://www.azlyrics.com/lyrics/morganwallen/outlaw.html\n",
            "https://www.azlyrics.com/lyrics/morganwallen/whiskeydmyway.html\n",
            "https://www.azlyrics.com/lyrics/morganwallen/wonderinboutthewind.html\n",
            "https://www.azlyrics.com/lyrics/morganwallen/yourbartender.html\n",
            "https://www.azlyrics.com/lyrics/morganwallen/onlythingthatsgone.html\n",
            "https://www.azlyrics.com/lyrics/morganwallen/covermeup.html\n",
            "https://www.azlyrics.com/lyrics/morganwallen/7summers.html\n",
            "https://www.azlyrics.com/lyrics/morganwallen/morethanmyhometown.html\n",
            "https://www.azlyrics.com/lyrics/morganwallen/stillgoindown.html\n",
            "https://www.azlyrics.com/lyrics/morganwallen/rednecksredlettersreddirt.html\n",
            "https://www.azlyrics.com/lyrics/morganwallen/dangerous.html\n",
            "https://www.azlyrics.com/lyrics/morganwallen/beerdont.html\n",
            "https://www.azlyrics.com/lyrics/morganwallen/blameitonme.html\n",
            "https://www.azlyrics.com/lyrics/morganwallen/somethincountry.html\n",
            "https://www.azlyrics.com/lyrics/morganwallen/thisbar.html\n",
            "https://www.azlyrics.com/lyrics/morganwallen/countryashit.html\n",
            "https://www.azlyrics.com/lyrics/morganwallen/whatchathinkofcountrynow.html\n",
            "https://www.azlyrics.com/lyrics/morganwallen/meonwhiskey.html\n",
            "https://www.azlyrics.com/lyrics/morganwallen/needaboat.html\n",
            "https://www.azlyrics.com/lyrics/morganwallen/silveradoforsale.html\n",
            "https://www.azlyrics.com/lyrics/morganwallen/livinthedream.html\n",
            "https://www.azlyrics.com/lyrics/morganwallen/quittintime.html\n",
            "https://www.azlyrics.com/lyrics/morganwallen/thissideofadustcloud.html\n",
            "https://www.azlyrics.com/lyrics/morganwallen/bandaidonabullethole.html\n",
            "https://www.azlyrics.com/lyrics/morganwallen/bornwithabeerinmyhand.html\n",
            "https://www.azlyrics.com/lyrics/morganwallen/lastnight.html\n",
            "https://www.azlyrics.com/lyrics/morganwallen/everythingilove.html\n",
            "https://www.azlyrics.com/lyrics/morganwallen/manmadeabar.html\n",
            "https://www.azlyrics.com/lyrics/morganwallen/devildontknow.html\n",
            "https://www.azlyrics.com/lyrics/morganwallen/onethingatatime.html\n",
            "https://www.azlyrics.com/lyrics/morganwallen/98braves.html\n",
            "https://www.azlyrics.com/lyrics/morganwallen/aintthatsome.html\n",
            "https://www.azlyrics.com/lyrics/morganwallen/iwrotethebook.html\n",
            "https://www.azlyrics.com/lyrics/morganwallen/tennesseenumbers.html\n",
            "https://www.azlyrics.com/lyrics/morganwallen/hopethatstrue.html\n",
            "https://www.azlyrics.com/lyrics/morganwallen/whiskeyfriends.html\n",
            "https://www.azlyrics.com/lyrics/morganwallen/sunrise.html\n",
            "https://www.azlyrics.com/lyrics/morganwallen/keithwhitley.html\n",
            "https://www.azlyrics.com/lyrics/morganwallen/inthebible.html\n",
            "https://www.azlyrics.com/lyrics/morganwallen/youproof.html\n",
            "https://www.azlyrics.com/lyrics/morganwallen/thoughtyoushouldknow.html\n",
            "https://www.azlyrics.com/lyrics/morganwallen/f15050.html\n",
            "https://www.azlyrics.com/lyrics/morganwallen/neonstarcountryboylullaby.html\n",
            "https://www.azlyrics.com/lyrics/morganwallen/ideserveadrink.html\n",
            "https://www.azlyrics.com/lyrics/morganwallen/wineintowater.html\n",
            "https://www.azlyrics.com/lyrics/morganwallen/meallyourreasons.html\n",
            "https://www.azlyrics.com/lyrics/morganwallen/tennesseefan.html\n",
            "https://www.azlyrics.com/lyrics/morganwallen/moneyonme.html\n",
            "https://www.azlyrics.com/lyrics/morganwallen/thinkinboutme.html\n",
            "https://www.azlyrics.com/lyrics/morganwallen/singlethanshewas.html\n",
            "https://www.azlyrics.com/lyrics/morganwallen/daysthatendinwhy.html\n",
            "https://www.azlyrics.com/lyrics/morganwallen/lastdrivedownmain.html\n",
            "https://www.azlyrics.com/lyrics/morganwallen/metome.html\n",
            "https://www.azlyrics.com/lyrics/morganwallen/dontthinkjesus.html\n",
            "https://www.azlyrics.com/lyrics/morganwallen/180lifestyle.html\n",
            "https://www.azlyrics.com/lyrics/morganwallen/hadit.html\n",
            "https://www.azlyrics.com/lyrics/morganwallen/cowgirls.html\n",
            "https://www.azlyrics.com/lyrics/morganwallen/goodgirlgonemissin.html\n",
            "https://www.azlyrics.com/lyrics/morganwallen/outlook.html\n",
            "https://www.azlyrics.com/lyrics/morganwallen/dyingman.html\n",
            "https://www.azlyrics.com/lyrics/morganwallen/lieslieslies.html\n",
            "\n",
            "Lyrics links for pink floyd:\n",
            "https://www.azlyrics.com/lyrics/pinkfloyd/astronomydomine.html\n",
            "https://www.azlyrics.com/lyrics/pinkfloyd/lucifersam.html\n",
            "https://www.azlyrics.com/lyrics/pinkfloyd/matildamother.html\n",
            "https://www.azlyrics.com/lyrics/pinkfloyd/flaming.html\n",
            "https://www.azlyrics.com/lyrics/pinkfloyd/takeupthystethoscopeandwalk.html\n",
            "https://www.azlyrics.com/lyrics/pinkfloyd/thegnome.html\n",
            "https://www.azlyrics.com/lyrics/pinkfloyd/chapter24.html\n",
            "https://www.azlyrics.com/lyrics/pinkfloyd/thescarecrow.html\n",
            "https://www.azlyrics.com/lyrics/pinkfloyd/bike.html\n",
            "https://www.azlyrics.com/lyrics/pinkfloyd/lettherebemorelight.html\n",
            "https://www.azlyrics.com/lyrics/pinkfloyd/rememberaday.html\n",
            "https://www.azlyrics.com/lyrics/pinkfloyd/setthecontrolsfortheheartofthesun.html\n",
            "https://www.azlyrics.com/lyrics/pinkfloyd/corporalclegg.html\n",
            "https://www.azlyrics.com/lyrics/pinkfloyd/seesaw.html\n",
            "https://www.azlyrics.com/lyrics/pinkfloyd/jugbandblues.html\n",
            "https://www.azlyrics.com/lyrics/pinkfloyd/cirrusminor.html\n",
            "https://www.azlyrics.com/lyrics/pinkfloyd/thenilesong.html\n",
            "https://www.azlyrics.com/lyrics/pinkfloyd/cryingsong.html\n",
            "https://www.azlyrics.com/lyrics/pinkfloyd/greenisthecolour.html\n",
            "https://www.azlyrics.com/lyrics/pinkfloyd/cymbaline.html\n",
            "https://www.azlyrics.com/lyrics/pinkfloyd/ibizabar.html\n",
            "https://www.azlyrics.com/lyrics/pinkfloyd/aspanishpiece.html\n",
            "https://www.azlyrics.com/lyrics/pinkfloyd/astronomydomine48400.html\n",
            "https://www.azlyrics.com/lyrics/pinkfloyd/carefulwiththataxeeugene.html\n",
            "https://www.azlyrics.com/lyrics/pinkfloyd/setthecontrolsfortheheartofthesunlive.html\n",
            "https://www.azlyrics.com/lyrics/pinkfloyd/grantchestermeadows.html\n",
            "https://www.azlyrics.com/lyrics/pinkfloyd/severalspeciesofsmallfurryanimalsgatheredtogetherinacaveandgroovingwithapict.html\n",
            "https://www.azlyrics.com/lyrics/pinkfloyd/thenarrowway.html\n",
            "https://www.azlyrics.com/lyrics/pinkfloyd/if.html\n",
            "https://www.azlyrics.com/lyrics/pinkfloyd/summer68.html\n",
            "https://www.azlyrics.com/lyrics/pinkfloyd/fatoldsun.html\n",
            "https://www.azlyrics.com/lyrics/pinkfloyd/alanspsychedelicbreakfast.html\n",
            "https://www.azlyrics.com/lyrics/pinkfloyd/arnoldlayne.html\n",
            "https://www.azlyrics.com/lyrics/pinkfloyd/seeemilyplay.html\n",
            "https://www.azlyrics.com/lyrics/pinkfloyd/rememberaday.html\n",
            "https://www.azlyrics.com/lyrics/pinkfloyd/paintbox.html\n",
            "https://www.azlyrics.com/lyrics/pinkfloyd/juliadream.html\n",
            "https://www.azlyrics.com/lyrics/pinkfloyd/cirrusminor.html\n",
            "https://www.azlyrics.com/lyrics/pinkfloyd/thenilesong.html\n",
            "https://www.azlyrics.com/lyrics/pinkfloyd/bidingmytime.html\n",
            "https://www.azlyrics.com/lyrics/pinkfloyd/bike.html\n",
            "https://www.azlyrics.com/lyrics/pinkfloyd/oneofthesedays.html\n",
            "https://www.azlyrics.com/lyrics/pinkfloyd/apillowofwinds.html\n",
            "https://www.azlyrics.com/lyrics/pinkfloyd/fearless.html\n",
            "https://www.azlyrics.com/lyrics/pinkfloyd/santropez.html\n",
            "https://www.azlyrics.com/lyrics/pinkfloyd/seamus.html\n",
            "https://www.azlyrics.com/lyrics/pinkfloyd/echoes.html\n",
            "https://www.azlyrics.com/lyrics/pinkfloyd/burningbridges.html\n",
            "https://www.azlyrics.com/lyrics/pinkfloyd/thegolditsinthe.html\n",
            "https://www.azlyrics.com/lyrics/pinkfloyd/wotsuhthedeal.html\n",
            "https://www.azlyrics.com/lyrics/pinkfloyd/childhoodsend.html\n",
            "https://www.azlyrics.com/lyrics/pinkfloyd/freefour.html\n",
            "https://www.azlyrics.com/lyrics/pinkfloyd/stay.html\n",
            "https://www.azlyrics.com/lyrics/pinkfloyd/speaktome.html\n",
            "https://www.azlyrics.com/lyrics/pinkfloyd/breathe.html\n",
            "https://www.azlyrics.com/lyrics/pinkfloyd/ontherun.html\n",
            "https://www.azlyrics.com/lyrics/pinkfloyd/time.html\n",
            "https://www.azlyrics.com/lyrics/pinkfloyd/thegreatgiginthesky.html\n",
            "https://www.azlyrics.com/lyrics/pinkfloyd/money.html\n",
            "https://www.azlyrics.com/lyrics/pinkfloyd/usandthem.html\n",
            "https://www.azlyrics.com/lyrics/pinkfloyd/braindamage-1973.html\n",
            "https://www.azlyrics.com/lyrics/pinkfloyd/eclipse.html\n",
            "https://www.azlyrics.com/lyrics/pinkfloyd/shineonyoucrazydiamondiv.html\n",
            "https://www.azlyrics.com/lyrics/pinkfloyd/welcometothemachine.html\n",
            "https://www.azlyrics.com/lyrics/pinkfloyd/haveacigar.html\n",
            "https://www.azlyrics.com/lyrics/pinkfloyd/wishyouwerehere.html\n",
            "https://www.azlyrics.com/lyrics/pinkfloyd/shineonyoucrazydiamondviix.html\n",
            "https://www.azlyrics.com/lyrics/pinkfloyd/pigsonthewingpartone.html\n",
            "https://www.azlyrics.com/lyrics/pinkfloyd/dogs.html\n",
            "https://www.azlyrics.com/lyrics/pinkfloyd/pigsthreedifferentones.html\n",
            "https://www.azlyrics.com/lyrics/pinkfloyd/sheep.html\n",
            "https://www.azlyrics.com/lyrics/pinkfloyd/pigsonthewingparttwo.html\n",
            "https://www.azlyrics.com/lyrics/pinkfloyd/intheflesh.html\n",
            "https://www.azlyrics.com/lyrics/pinkfloyd/thethinice.html\n",
            "https://www.azlyrics.com/lyrics/pinkfloyd/anotherbrickinthewallparti.html\n",
            "https://www.azlyrics.com/lyrics/pinkfloyd/thehappiestdaysofourlives.html\n",
            "https://www.azlyrics.com/lyrics/pinkfloyd/anotherbrickinthewallpartii.html\n",
            "https://www.azlyrics.com/lyrics/pinkfloyd/mother.html\n",
            "https://www.azlyrics.com/lyrics/pinkfloyd/goodbyebluesky.html\n",
            "https://www.azlyrics.com/lyrics/pinkfloyd/emptyspaces.html\n",
            "https://www.azlyrics.com/lyrics/pinkfloyd/younglust.html\n",
            "https://www.azlyrics.com/lyrics/pinkfloyd/oneofmyturns.html\n",
            "https://www.azlyrics.com/lyrics/pinkfloyd/dontleavemenow.html\n",
            "https://www.azlyrics.com/lyrics/pinkfloyd/anotherbrickinthewallpartiii.html\n",
            "https://www.azlyrics.com/lyrics/pinkfloyd/goodbyecruelworld.html\n",
            "https://www.azlyrics.com/lyrics/pinkfloyd/heyyou.html\n",
            "https://www.azlyrics.com/lyrics/pinkfloyd/isthereanybodyoutthere.html\n",
            "https://www.azlyrics.com/lyrics/pinkfloyd/nobodyhome.html\n",
            "https://www.azlyrics.com/lyrics/pinkfloyd/vera.html\n",
            "https://www.azlyrics.com/lyrics/pinkfloyd/bringtheboysbackhome.html\n",
            "https://www.azlyrics.com/lyrics/pinkfloyd/comfortablynumb.html\n",
            "https://www.azlyrics.com/lyrics/pinkfloyd/theshowmustgoon.html\n",
            "https://www.azlyrics.com/lyrics/pinkfloyd/intheflesh16175.html\n",
            "https://www.azlyrics.com/lyrics/pinkfloyd/runlikehell.html\n",
            "https://www.azlyrics.com/lyrics/pinkfloyd/waitingfortheworms.html\n",
            "https://www.azlyrics.com/lyrics/pinkfloyd/stop.html\n",
            "https://www.azlyrics.com/lyrics/pinkfloyd/thetrial.html\n",
            "https://www.azlyrics.com/lyrics/pinkfloyd/outsidethewall.html\n",
            "https://www.azlyrics.com/lyrics/pinkfloyd/thepostwardream.html\n",
            "https://www.azlyrics.com/lyrics/pinkfloyd/yourpossiblepasts.html\n",
            "https://www.azlyrics.com/lyrics/pinkfloyd/oneofthefew.html\n",
            "https://www.azlyrics.com/lyrics/pinkfloyd/whenthetigersbrokefree.html\n",
            "https://www.azlyrics.com/lyrics/pinkfloyd/theherosreturn.html\n",
            "https://www.azlyrics.com/lyrics/pinkfloyd/thegunnersdream.html\n",
            "https://www.azlyrics.com/lyrics/pinkfloyd/paranoideyes.html\n",
            "https://www.azlyrics.com/lyrics/pinkfloyd/getyourfilthyhandsoffmydesert.html\n",
            "https://www.azlyrics.com/lyrics/pinkfloyd/thefletchermemorialhome.html\n",
            "https://www.azlyrics.com/lyrics/pinkfloyd/southamptondock.html\n",
            "https://www.azlyrics.com/lyrics/pinkfloyd/thefinalcut.html\n",
            "https://www.azlyrics.com/lyrics/pinkfloyd/notnowjohn.html\n",
            "https://www.azlyrics.com/lyrics/pinkfloyd/twosunsinthesunset.html\n",
            "https://www.azlyrics.com/lyrics/pinkfloyd/arnoldlayne.html\n",
            "https://www.azlyrics.com/lyrics/pinkfloyd/fearless.html\n",
            "https://www.azlyrics.com/lyrics/pinkfloyd/braindamage-1983.html\n",
            "https://www.azlyrics.com/lyrics/pinkfloyd/eclipse.html\n",
            "https://www.azlyrics.com/lyrics/pinkfloyd/setthecontrolsfortheheartofthesun.html\n",
            "https://www.azlyrics.com/lyrics/pinkfloyd/seeemilyplay.html\n",
            "https://www.azlyrics.com/lyrics/pinkfloyd/freefour.html\n",
            "https://www.azlyrics.com/lyrics/pinkfloyd/embryo.html\n",
            "https://www.azlyrics.com/lyrics/pinkfloyd/signsoflife.html\n",
            "https://www.azlyrics.com/lyrics/pinkfloyd/learningtofly.html\n",
            "https://www.azlyrics.com/lyrics/pinkfloyd/thedogsofwar.html\n",
            "https://www.azlyrics.com/lyrics/pinkfloyd/oneslip.html\n",
            "https://www.azlyrics.com/lyrics/pinkfloyd/ontheturningaway.html\n",
            "https://www.azlyrics.com/lyrics/pinkfloyd/yetanothermovie.html\n",
            "https://www.azlyrics.com/lyrics/pinkfloyd/anewmachinepart1.html\n",
            "https://www.azlyrics.com/lyrics/pinkfloyd/anewmachinepart2.html\n",
            "https://www.azlyrics.com/lyrics/pinkfloyd/sorrow.html\n",
            "https://www.azlyrics.com/lyrics/pinkfloyd/whatdoyouwantfromme.html\n",
            "https://www.azlyrics.com/lyrics/pinkfloyd/polesapart.html\n",
            "https://www.azlyrics.com/lyrics/pinkfloyd/agreatdayforfreedom.html\n",
            "https://www.azlyrics.com/lyrics/pinkfloyd/wearingtheinsideout.html\n",
            "https://www.azlyrics.com/lyrics/pinkfloyd/takeitback.html\n",
            "https://www.azlyrics.com/lyrics/pinkfloyd/comingbacktolife.html\n",
            "https://www.azlyrics.com/lyrics/pinkfloyd/keeptalking.html\n",
            "https://www.azlyrics.com/lyrics/pinkfloyd/lostforwords.html\n",
            "https://www.azlyrics.com/lyrics/pinkfloyd/highhopes.html\n",
            "https://www.azlyrics.com/lyrics/pinkfloyd/talkinhawkin.html\n",
            "https://www.azlyrics.com/lyrics/pinkfloyd/louderthanwords.html\n",
            "https://www.azlyrics.com/lyrics/pinkfloyd/lucyleave.html\n",
            "https://www.azlyrics.com/lyrics/pinkfloyd/doubleobo.html\n",
            "https://www.azlyrics.com/lyrics/pinkfloyd/rememberme.html\n",
            "https://www.azlyrics.com/lyrics/pinkfloyd/walkwithmesydney.html\n",
            "https://www.azlyrics.com/lyrics/pinkfloyd/butterfly.html\n",
            "https://www.azlyrics.com/lyrics/pinkfloyd/imakingbee.html\n",
            "https://www.azlyrics.com/lyrics/pinkfloyd/applesandoranges.html\n",
            "https://www.azlyrics.com/lyrics/pinkfloyd/candyandacurrantbun.html\n",
            "https://www.azlyrics.com/lyrics/pinkfloyd/heyheyriseup.html\n",
            "https://www.azlyrics.com/lyrics/pinkfloyd/itwouldbesonice.html\n",
            "https://www.azlyrics.com/lyrics/pinkfloyd/kingbeeslimharpo1957.html\n",
            "https://www.azlyrics.com/lyrics/pinkfloyd/pointmeatthesky.html\n",
            "https://www.azlyrics.com/lyrics/pinkfloyd/screamthylastscream.html\n",
            "https://www.azlyrics.com/lyrics/pinkfloyd/seabirds.html\n",
            "https://www.azlyrics.com/lyrics/pinkfloyd/vegetableman.html\n",
            "https://www.azlyrics.com/lyrics/pinkfloyd/whatshallwedonow.html\n"
          ]
        }
      ],
      "source": [
        "# Let's set up a dictionary of lists to hold our links\n",
        "lyrics_pages = defaultdict(list)\n",
        "\n",
        "for artist, artist_page in artists.items():\n",
        "    # request the page and sleep\n",
        "    print(f\"Fetching page for {artist}...\")\n",
        "    r = requests.get(artist_page)\n",
        "    time.sleep(5 + 10 * random.random())\n",
        "\n",
        "# Parse the artist's page with BeautifulSoup\n",
        "    soup = BeautifulSoup(r.content, 'html.parser')\n",
        "\n",
        "# Extract the links to lyrics pages from this page\n",
        "    for link in soup.find_all('a', href=True):\n",
        "        url = link['href']\n",
        "\n",
        "# Check if the URL contains 'lyrics' and starts with '/lyrics/'\n",
        "        if url.startswith('/lyrics/'):\n",
        "            full_url = f\"https://www.azlyrics.com{url}\"\n",
        "            lyrics_pages[artist].append(full_url)\n",
        "\n",
        "# Print out the collected lyrics links\n",
        "for artist, links in lyrics_pages.items():\n",
        "    print(f\"\\nLyrics links for {artist}:\")\n",
        "    for link in links:\n",
        "        print(link)"
      ]
    },
    {
      "cell_type": "markdown",
      "id": "9c285ec1",
      "metadata": {
        "id": "9c285ec1"
      },
      "source": [
        "Let's make sure we have enough lyrics pages to scrape."
      ]
    },
    {
      "cell_type": "code",
      "execution_count": 5,
      "id": "ae4cda68",
      "metadata": {
        "id": "ae4cda68"
      },
      "outputs": [],
      "source": [
        "for artist, lp in lyrics_pages.items() :\n",
        "    assert(len(set(lp)) > 20)"
      ]
    },
    {
      "cell_type": "code",
      "execution_count": 6,
      "id": "edca10d6",
      "metadata": {
        "colab": {
          "base_uri": "https://localhost:8080/"
        },
        "id": "edca10d6",
        "outputId": "494ee11b-c91b-4207-d52f-4fe07d37ccd6"
      },
      "outputs": [
        {
          "name": "stdout",
          "output_type": "stream",
          "text": [
            "For morgan wallen we have 100.\n",
            "The full pull will take for this artist will take 0.28 hours.\n",
            "For pink floyd we have 155.\n",
            "The full pull will take for this artist will take 0.43 hours.\n"
          ]
        }
      ],
      "source": [
        "# Let's see how long it's going to take to pull these lyrics\n",
        "# if we're waiting `5 + 10*random.random()` seconds\n",
        "for artist, links in lyrics_pages.items() :\n",
        "    print(f\"For {artist} we have {len(links)}.\")\n",
        "    print(f\"The full pull will take for this artist will take {round(len(links)*10/3600,2)} hours.\")"
      ]
    },
    {
      "cell_type": "markdown",
      "id": "011be6c6",
      "metadata": {
        "id": "011be6c6"
      },
      "source": [
        "## Part 2: Pulling Lyrics\n",
        "\n",
        "Now that we have the links to our lyrics pages, let's go scrape them! Here are the steps for this part.\n",
        "\n",
        "1. Create an empty folder in our repo called \"lyrics\".\n",
        "1. Iterate over the artists in `lyrics_pages`.\n",
        "1. Create a subfolder in lyrics with the artist's name. For instance, if the artist was Cher you'd have `lyrics/cher/` in your repo.\n",
        "1. Iterate over the pages.\n",
        "1. Request the page and extract the lyrics from the returned HTML file using BeautifulSoup.\n",
        "1. Use the function below, `generate_filename_from_url`, to create a filename based on the lyrics page, then write the lyrics to a text file with that name.\n"
      ]
    },
    {
      "cell_type": "code",
      "execution_count": 7,
      "id": "67693711",
      "metadata": {
        "id": "67693711"
      },
      "outputs": [],
      "source": [
        "def generate_filename_from_link(link) :\n",
        "\n",
        "    if not link :\n",
        "        return None\n",
        "\n",
        "    # drop the http or https and the html\n",
        "    name = link.replace(\"https\",\"\").replace(\"http\",\"\")\n",
        "    name = link.replace(\".html\",\"\")\n",
        "\n",
        "    name = name.replace(\"/lyrics/\",\"\")\n",
        "\n",
        "    # Replace useless chareacters with UNDERSCORE\n",
        "    name = name.replace(\"://\",\"\").replace(\".\",\"_\").replace(\"/\",\"_\")\n",
        "\n",
        "    # tack on .txt\n",
        "    name = name + \".txt\"\n",
        "\n",
        "    return(name)\n"
      ]
    },
    {
      "cell_type": "code",
      "execution_count": 8,
      "id": "94a78c78",
      "metadata": {
        "id": "94a78c78"
      },
      "outputs": [],
      "source": [
        "# Make the lyrics folder here. If you'd like to practice your programming, add functionality\n",
        "# that checks to see if the folder exists. If it does, then use shutil.rmtree to remove it and create a new one.\n",
        "\n",
        "if os.path.isdir(\"lyrics\") :\n",
        "    shutil.rmtree(\"lyrics/\")\n",
        "\n",
        "os.mkdir(\"lyrics\")"
      ]
    },
    {
      "cell_type": "code",
      "execution_count": 9,
      "id": "d655b687",
      "metadata": {
        "colab": {
          "base_uri": "https://localhost:8080/"
        },
        "id": "d655b687",
        "outputId": "f06ad421-7ee7-45b9-da7a-091b25793128"
      },
      "outputs": [
        {
          "name": "stdout",
          "output_type": "stream",
          "text": [
            "Requesting lyrics for https://www.azlyrics.com/lyrics/morganwallen/spinyouaround.html...\n",
            "Saved lyrics for \"Spin You Around\" lyrics in lyrics\\morgan_wallen\\httpswww_azlyrics_commorganwallen_spinyouaround.txt.\n",
            "Requesting lyrics for https://www.azlyrics.com/lyrics/morganwallen/sleepwhenweredead.html...\n",
            "Saved lyrics for \"Sleep When We're Dead\" lyrics in lyrics\\morgan_wallen\\httpswww_azlyrics_commorganwallen_sleepwhenweredead.txt.\n",
            "Requesting lyrics for https://www.azlyrics.com/lyrics/morganwallen/standalone.html...\n",
            "Saved lyrics for \"Stand Alone\" lyrics in lyrics\\morgan_wallen\\httpswww_azlyrics_commorganwallen_standalone.txt.\n",
            "Requesting lyrics for https://www.azlyrics.com/lyrics/morganwallen/manofthesouth.html...\n",
            "Saved lyrics for \"Man Of The South\" lyrics in lyrics\\morgan_wallen\\httpswww_azlyrics_commorganwallen_manofthesouth.txt.\n",
            "Requesting lyrics for https://www.azlyrics.com/lyrics/morganwallen/yinyanggirl.html...\n",
            "Saved lyrics for \"Yin Yang Girl\" lyrics in lyrics\\morgan_wallen\\httpswww_azlyrics_commorganwallen_yinyanggirl.txt.\n",
            "Requesting lyrics for https://www.azlyrics.com/lyrics/morganwallen/goingdown.html...\n",
            "Saved lyrics for \"Going Down\" lyrics in lyrics\\morgan_wallen\\httpswww_azlyrics_commorganwallen_goingdown.txt.\n",
            "Requesting lyrics for https://www.azlyrics.com/lyrics/morganwallen/scaredtolivewithoutyou.html...\n",
            "Saved lyrics for \"Scared To Live Without You\" lyrics in lyrics\\morgan_wallen\\httpswww_azlyrics_commorganwallen_scaredtolivewithoutyou.txt.\n",
            "Requesting lyrics for https://www.azlyrics.com/lyrics/morganwallen/2ofusalone.html...\n",
            "Saved lyrics for \"2 Of Us Alone\" lyrics in lyrics\\morgan_wallen\\httpswww_azlyrics_commorganwallen_2ofusalone.txt.\n",
            "Requesting lyrics for https://www.azlyrics.com/lyrics/morganwallen/gotitmade.html...\n",
            "Saved lyrics for \"Got It Made\" lyrics in lyrics\\morgan_wallen\\httpswww_azlyrics_commorganwallen_gotitmade.txt.\n",
            "Requesting lyrics for https://www.azlyrics.com/lyrics/morganwallen/whatsyourstory.html...\n",
            "Saved lyrics for \"What's Your Story\" lyrics in lyrics\\morgan_wallen\\httpswww_azlyrics_commorganwallen_whatsyourstory.txt.\n",
            "Requesting lyrics for https://www.azlyrics.com/lyrics/morganwallen/afterglow.html...\n",
            "Saved lyrics for \"Afterglow\" lyrics in lyrics\\morgan_wallen\\httpswww_azlyrics_commorganwallen_afterglow.txt.\n",
            "Requesting lyrics for https://www.azlyrics.com/lyrics/morganwallen/heavencantakeabackseat.html...\n",
            "Saved lyrics for \"Heaven Can Take A Backseat\" lyrics in lyrics\\morgan_wallen\\httpswww_azlyrics_commorganwallen_heavencantakeabackseat.txt.\n",
            "Requesting lyrics for https://www.azlyrics.com/lyrics/morganwallen/bonfirejam.html...\n",
            "Saved lyrics for \"Bonfire Jam\" lyrics in lyrics\\morgan_wallen\\httpswww_azlyrics_commorganwallen_bonfirejam.txt.\n",
            "Requesting lyrics for https://www.azlyrics.com/lyrics/morganwallen/thewayitalk.html...\n",
            "Saved lyrics for \"The Way I Talk\" lyrics in lyrics\\morgan_wallen\\httpswww_azlyrics_commorganwallen_thewayitalk.txt.\n",
            "Requesting lyrics for https://www.azlyrics.com/lyrics/morganwallen/chainsmokin.html...\n",
            "Saved lyrics for \"Chain Smokin'\" lyrics in lyrics\\morgan_wallen\\httpswww_azlyrics_commorganwallen_chainsmokin.txt.\n",
            "Requesting lyrics for https://www.azlyrics.com/lyrics/morganwallen/whiskeyglasses.html...\n",
            "Saved lyrics for \"Whiskey Glasses\" lyrics in lyrics\\morgan_wallen\\httpswww_azlyrics_commorganwallen_whiskeyglasses.txt.\n",
            "Requesting lyrics for https://www.azlyrics.com/lyrics/morganwallen/standout.html...\n",
            "Saved lyrics for \"Stand Out\" lyrics in lyrics\\morgan_wallen\\httpswww_azlyrics_commorganwallen_standout.txt.\n",
            "Requesting lyrics for https://www.azlyrics.com/lyrics/morganwallen/americannights.html...\n",
            "Saved lyrics for \"American Nights\" lyrics in lyrics\\morgan_wallen\\httpswww_azlyrics_commorganwallen_americannights.txt.\n",
            "Requesting lyrics for https://www.azlyrics.com/lyrics/morganwallen/updown.html...\n",
            "Saved lyrics for \"Up Down\" lyrics in lyrics\\morgan_wallen\\httpswww_azlyrics_commorganwallen_updown.txt.\n",
            "Requesting lyrics for https://www.azlyrics.com/lyrics/morganwallen/happyhour.html...\n",
            "Saved lyrics for \"Happy Hour\" lyrics in lyrics\\morgan_wallen\\httpswww_azlyrics_commorganwallen_happyhour.txt.\n",
            "Requesting lyrics for https://www.azlyrics.com/lyrics/pinkfloyd/astronomydomine.html...\n",
            "Saved lyrics for \"Astronomy Domine\" lyrics in lyrics\\pink_floyd\\httpswww_azlyrics_compinkfloyd_astronomydomine.txt.\n",
            "Requesting lyrics for https://www.azlyrics.com/lyrics/pinkfloyd/lucifersam.html...\n",
            "Saved lyrics for \"Lucifer Sam\" lyrics in lyrics\\pink_floyd\\httpswww_azlyrics_compinkfloyd_lucifersam.txt.\n",
            "Requesting lyrics for https://www.azlyrics.com/lyrics/pinkfloyd/matildamother.html...\n",
            "Saved lyrics for \"Matilda Mother\" lyrics in lyrics\\pink_floyd\\httpswww_azlyrics_compinkfloyd_matildamother.txt.\n",
            "Requesting lyrics for https://www.azlyrics.com/lyrics/pinkfloyd/flaming.html...\n",
            "Saved lyrics for \"Flaming\" lyrics in lyrics\\pink_floyd\\httpswww_azlyrics_compinkfloyd_flaming.txt.\n",
            "Requesting lyrics for https://www.azlyrics.com/lyrics/pinkfloyd/takeupthystethoscopeandwalk.html...\n",
            "Saved lyrics for \"Take Up Thy Stethoscope And Walk\" lyrics in lyrics\\pink_floyd\\httpswww_azlyrics_compinkfloyd_takeupthystethoscopeandwalk.txt.\n",
            "Requesting lyrics for https://www.azlyrics.com/lyrics/pinkfloyd/thegnome.html...\n",
            "Saved lyrics for \"The Gnome\" lyrics in lyrics\\pink_floyd\\httpswww_azlyrics_compinkfloyd_thegnome.txt.\n",
            "Requesting lyrics for https://www.azlyrics.com/lyrics/pinkfloyd/chapter24.html...\n",
            "Saved lyrics for \"Chapter 24\" lyrics in lyrics\\pink_floyd\\httpswww_azlyrics_compinkfloyd_chapter24.txt.\n",
            "Requesting lyrics for https://www.azlyrics.com/lyrics/pinkfloyd/thescarecrow.html...\n",
            "Saved lyrics for \"The Scarecrow\" lyrics in lyrics\\pink_floyd\\httpswww_azlyrics_compinkfloyd_thescarecrow.txt.\n",
            "Requesting lyrics for https://www.azlyrics.com/lyrics/pinkfloyd/bike.html...\n",
            "Saved lyrics for \"Bike\" lyrics in lyrics\\pink_floyd\\httpswww_azlyrics_compinkfloyd_bike.txt.\n",
            "Requesting lyrics for https://www.azlyrics.com/lyrics/pinkfloyd/lettherebemorelight.html...\n",
            "Saved lyrics for \"Let There Be More Light\" lyrics in lyrics\\pink_floyd\\httpswww_azlyrics_compinkfloyd_lettherebemorelight.txt.\n",
            "Requesting lyrics for https://www.azlyrics.com/lyrics/pinkfloyd/rememberaday.html...\n",
            "Saved lyrics for \"Remember A Day\" lyrics in lyrics\\pink_floyd\\httpswww_azlyrics_compinkfloyd_rememberaday.txt.\n",
            "Requesting lyrics for https://www.azlyrics.com/lyrics/pinkfloyd/setthecontrolsfortheheartofthesun.html...\n",
            "Saved lyrics for \"Set The Controls For The Heart Of The Sun\" lyrics in lyrics\\pink_floyd\\httpswww_azlyrics_compinkfloyd_setthecontrolsfortheheartofthesun.txt.\n",
            "Requesting lyrics for https://www.azlyrics.com/lyrics/pinkfloyd/corporalclegg.html...\n",
            "Saved lyrics for \"Corporal Clegg\" lyrics in lyrics\\pink_floyd\\httpswww_azlyrics_compinkfloyd_corporalclegg.txt.\n",
            "Requesting lyrics for https://www.azlyrics.com/lyrics/pinkfloyd/seesaw.html...\n",
            "Saved lyrics for \"See-Saw\" lyrics in lyrics\\pink_floyd\\httpswww_azlyrics_compinkfloyd_seesaw.txt.\n",
            "Requesting lyrics for https://www.azlyrics.com/lyrics/pinkfloyd/jugbandblues.html...\n",
            "Saved lyrics for \"Jugband Blues\" lyrics in lyrics\\pink_floyd\\httpswww_azlyrics_compinkfloyd_jugbandblues.txt.\n",
            "Requesting lyrics for https://www.azlyrics.com/lyrics/pinkfloyd/cirrusminor.html...\n",
            "Saved lyrics for \"Cirrus Minor\" lyrics in lyrics\\pink_floyd\\httpswww_azlyrics_compinkfloyd_cirrusminor.txt.\n",
            "Requesting lyrics for https://www.azlyrics.com/lyrics/pinkfloyd/thenilesong.html...\n",
            "Saved lyrics for \"The Nile Song\" lyrics in lyrics\\pink_floyd\\httpswww_azlyrics_compinkfloyd_thenilesong.txt.\n",
            "Requesting lyrics for https://www.azlyrics.com/lyrics/pinkfloyd/cryingsong.html...\n",
            "Saved lyrics for \"Crying Song\" lyrics in lyrics\\pink_floyd\\httpswww_azlyrics_compinkfloyd_cryingsong.txt.\n",
            "Requesting lyrics for https://www.azlyrics.com/lyrics/pinkfloyd/greenisthecolour.html...\n",
            "Saved lyrics for \"Green Is The Colour\" lyrics in lyrics\\pink_floyd\\httpswww_azlyrics_compinkfloyd_greenisthecolour.txt.\n",
            "Requesting lyrics for https://www.azlyrics.com/lyrics/pinkfloyd/cymbaline.html...\n",
            "Saved lyrics for \"Cymbaline\" lyrics in lyrics\\pink_floyd\\httpswww_azlyrics_compinkfloyd_cymbaline.txt.\n",
            "Total pages scraped: 40\n",
            "Time taken: 454.00 seconds\n"
          ]
        }
      ],
      "source": [
        "url_stub = \"https://www.azlyrics.com\"\n",
        "start = time.time()\n",
        "\n",
        "total_pages = 0\n",
        "\n",
        "for artist, links in lyrics_pages.items():\n",
        "\n",
        "    # 1. Build a subfolder for the artist\n",
        "    artist_folder = os.path.join(\"lyrics\", artist.lower().replace(\" \", \"_\"))\n",
        "    os.makedirs(artist_folder, exist_ok=True)\n",
        "\n",
        "    # 2. Iterate over the lyrics pages\n",
        "    for link in links[:20]:\n",
        "        print(f\"Requesting lyrics for {link}...\")\n",
        "\n",
        "        # 3. Request the lyrics page.\n",
        "        r = requests.get(link)\n",
        "        time.sleep(5 + 10 * random.random())\n",
        "\n",
        "        if r.status_code == 200:\n",
        "            # 4. Extract the title and lyrics from the page.\n",
        "            soup = BeautifulSoup(r.content, 'html.parser')\n",
        "            title = soup.find(\"h1\").text.strip()\n",
        "            lyrics_div = soup.find(class_=\"col-xs-12 col-lg-8 text-center\")\n",
        "            lyrics = lyrics_div.get_text(separator=\"\\n\").strip() if lyrics_div else \"Lyrics not found.\"\n",
        "\n",
        "            # 5. Write out the title, two returns ('\\n'), and the lyrics. Use `generate_filename_from_link`\n",
        "            #    to generate the filename.\n",
        "            filename = generate_filename_from_link(link)\n",
        "            filepath = os.path.join(artist_folder, filename)\n",
        "\n",
        "            with open(filepath, 'w', encoding='utf-8') as f:\n",
        "                f.write(f\"{title}\\n\\n{lyrics}\")\n",
        "\n",
        "            total_pages += 1\n",
        "            print(f\"Saved lyrics for {title} in {filepath}.\")\n",
        "        else:\n",
        "            print(f\"Failed to fetch lyrics for {link}. Status code: {r.status_code}\")\n",
        "\n",
        "end = time.time()\n",
        "print(f\"Total pages scraped: {total_pages}\")\n",
        "print(f\"Time taken: {end - start:.2f} seconds\")"
      ]
    },
    {
      "cell_type": "code",
      "execution_count": 10,
      "id": "36c394f1",
      "metadata": {
        "colab": {
          "base_uri": "https://localhost:8080/"
        },
        "id": "36c394f1",
        "outputId": "bf764ef4-f5d6-4582-eb5c-3ed25d5193a7"
      },
      "outputs": [
        {
          "name": "stdout",
          "output_type": "stream",
          "text": [
            "Total run time was 0.13 hours.\n"
          ]
        }
      ],
      "source": [
        "print(f\"Total run time was {round((time.time() - start)/3600,2)} hours.\")"
      ]
    },
    {
      "cell_type": "markdown",
      "id": "054cf14b",
      "metadata": {
        "id": "054cf14b"
      },
      "source": [
        "---\n",
        "\n",
        "# Evaluation\n",
        "\n",
        "This assignment asks you to pull data by scraping www.AZLyrics.com.  After you have finished the above sections , run all the cells in this notebook. Print this to PDF and submit it, per the instructions."
      ]
    },
    {
      "cell_type": "code",
      "execution_count": 11,
      "id": "217c2b0a",
      "metadata": {
        "id": "217c2b0a"
      },
      "outputs": [],
      "source": [
        "# Simple word extractor from Peter Norvig: https://norvig.com/spell-correct.html\n",
        "def words(text):\n",
        "    return re.findall(r'\\w+', text.lower())"
      ]
    },
    {
      "cell_type": "markdown",
      "id": "37778a1c",
      "metadata": {
        "id": "37778a1c"
      },
      "source": [
        "## Checking Lyrics\n",
        "\n",
        "The output from your lyrics scrape should be stored in files located in this path from the directory:\n",
        "`/lyrics/[Artist Name]/[filename from URL]`. This code summarizes the information at a high level to help the instructor evaluate your work."
      ]
    },
    {
      "cell_type": "code",
      "execution_count": 12,
      "id": "bccac29c",
      "metadata": {
        "colab": {
          "base_uri": "https://localhost:8080/"
        },
        "id": "bccac29c",
        "outputId": "9131b344-bdbe-403c-8d46-6291eec8dc48"
      },
      "outputs": [
        {
          "name": "stdout",
          "output_type": "stream",
          "text": [
            "For morgan_wallen we have 20 files.\n",
            "For morgan_wallen we have roughly 14116 words, 1765 are unique.\n",
            "For pink_floyd we have 20 files.\n",
            "For pink_floyd we have roughly 8611 words, 1673 are unique.\n"
          ]
        }
      ],
      "source": [
        "artist_folders = os.listdir(\"lyrics/\")\n",
        "artist_folders = [f for f in artist_folders if os.path.isdir(\"lyrics/\" + f)]\n",
        "\n",
        "for artist in artist_folders :\n",
        "    artist_files = os.listdir(\"lyrics/\" + artist)\n",
        "    artist_files = [f for f in artist_files if 'txt' in f or 'csv' in f or 'tsv' in f]\n",
        "\n",
        "    print(f\"For {artist} we have {len(artist_files)} files.\")\n",
        "\n",
        "    artist_words = []\n",
        "\n",
        "    for f_name in artist_files :\n",
        "        with open(\"lyrics/\" + artist + \"/\" + f_name) as infile :\n",
        "            artist_words.extend(words(infile.read()))\n",
        "\n",
        "\n",
        "    print(f\"For {artist} we have roughly {len(artist_words)} words, {len(set(artist_words))} are unique.\")\n"
      ]
    },
    {
      "cell_type": "markdown",
      "id": "5FyDR9R6kIGD",
      "metadata": {
        "id": "5FyDR9R6kIGD"
      },
      "source": [
        "# Resources"
      ]
    },
    {
      "cell_type": "markdown",
      "id": "rj6Jt_oYkKfw",
      "metadata": {
        "id": "rj6Jt_oYkKfw"
      },
      "source": [
        "AZLyrics. “AZLyrics - Song Lyrics from a to Z.” Azlyrics.com, 2019, www.azlyrics.com/.\n",
        "\n",
        "OpenAI. (2024). *ChatGPT* [Large language model]. https://openai.com/chatgpt"
      ]
    }
  ],
  "metadata": {
    "colab": {
      "include_colab_link": true,
      "provenance": []
    },
    "kernelspec": {
      "display_name": "Python 3 (ipykernel)",
      "language": "python",
      "name": "python3"
    },
    "language_info": {
      "codemirror_mode": {
        "name": "ipython",
        "version": 3
      },
      "file_extension": ".py",
      "mimetype": "text/x-python",
      "name": "python",
      "nbconvert_exporter": "python",
      "pygments_lexer": "ipython3",
      "version": "3.12.1"
    }
  },
  "nbformat": 4,
  "nbformat_minor": 5
}
